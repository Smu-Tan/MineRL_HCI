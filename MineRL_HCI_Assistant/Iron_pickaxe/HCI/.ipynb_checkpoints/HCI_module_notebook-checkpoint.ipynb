{
 "cells": [
  {
   "cell_type": "markdown",
   "metadata": {},
   "source": [
    "### HCI for MineRL agent\n",
    "\n",
    "1. guidence recommendation\n",
    "  1. Subtask guidence\n",
    "      1. Assigning subtask for human-player.\n",
    "      2. Subtask could be the chain in HDQfD or Markov-controller or hand-crafted chain.\n",
    "      3. Potential research: Comparing Human-player performance between different provided chains.\n",
    "  2. speacial action guidence\n",
    "      1. Assigning special action(s) in the subtask for human-player.\n",
    "      2. special action contains:\n",
    "          1. Craft -- [Planke, stick, crafting_table, wooden_pickaxe, etc]: converting raw material\n",
    "          2. Place -- [item]: placing item(s)\n",
    "          3. NearbyCraft -- [item]: Craft item(s) when something nearby\n",
    "          4. Equip -- [item]\n",
    "      \n",
    "\n",
    "\n",
    "2. Action recommendation\n",
    "    1. Assigning action in the subtask for human-player.\n",
    "    2. For action, things might be a bit complex.\n",
    "    3. 10 basic actions:\n",
    "\n",
    "        1. Move -- [forward, back, left, right] \n",
    "        2. Camera -- [up, down, left, right] \n",
    "        3. Combo -- [forward+jump] \n",
    "        4. Attack\n"
   ]
  },
  {
   "cell_type": "markdown",
   "metadata": {},
   "source": [
    "### import packages"
   ]
  },
  {
   "cell_type": "code",
   "execution_count": 1,
   "metadata": {},
   "outputs": [],
   "source": [
    "#HCI controller dependencies\n",
    "import os\n",
    "import pprint\n",
    "import numpy as np\n",
    "\n",
    "os.chdir(\"..\")\n",
    "from HCI.HCI_module import HCI_basic_agents,HCI_controller"
   ]
  },
  {
   "cell_type": "markdown",
   "metadata": {},
   "source": [
    "### Test HCI module (pure subtask and special action version)"
   ]
  },
  {
   "cell_type": "code",
   "execution_count": 2,
   "metadata": {},
   "outputs": [
    {
     "name": "stdout",
     "output_type": "stream",
     "text": [
      "{'inventory': {'cobblestone': 0,\n",
      "               'crafting_table': 0,\n",
      "               'dirt': 0,\n",
      "               'furnace': 0,\n",
      "               'iron_ingot': 0,\n",
      "               'iron_ore': 0,\n",
      "               'iron_pickaxe': 0,\n",
      "               'log': 0,\n",
      "               'planks': 0,\n",
      "               'stick': 0,\n",
      "               'stone_pickaxe': 0,\n",
      "               'wooden_pickaxe': 0}}\n"
     ]
    }
   ],
   "source": [
    "# create a dict to simulate the inventory dict in the real experiment\n",
    "cur_state = {\n",
    "    \"inventory\":{\"log\": 0, \n",
    "                 \"planks\": 0,\n",
    "                 \"crafting_table\": 0,\n",
    "                 \"stick\": 0,\n",
    "                 \"wooden_pickaxe\": 0,\n",
    "                 \"dirt\": 0,\n",
    "                 \"cobblestone\": 0,\n",
    "                 \"stone_pickaxe\": 0,\n",
    "                 \"furnace\": 0,\n",
    "                 \"iron_ore\": 0,\n",
    "                 \"iron_ingot\": 0,\n",
    "                 \"iron_pickaxe\": 0,\n",
    "                }}\n",
    "\n",
    "pprint.pprint(cur_state)"
   ]
  },
  {
   "cell_type": "code",
   "execution_count": 3,
   "metadata": {},
   "outputs": [],
   "source": [
    "# create an subtask hci_controller first\n",
    "# you will only need to run this once at the beginning of the experiment\n",
    "hci = HCI_controller(include_basic_actions = False)"
   ]
  },
  {
   "cell_type": "code",
   "execution_count": 4,
   "metadata": {},
   "outputs": [
    {
     "data": {
      "text/plain": [
       "\"Welcome to the game! I'm your personal AI assistant, I will give you suggestions to help you play this wonderful game! Now try to collect 5 log.\""
      ]
     },
     "execution_count": 4,
     "metadata": {},
     "output_type": "execute_result"
    }
   ],
   "source": [
    "# simulate the experiment, in the real experiment, you will call this function every time when transfering data to the hci_controller\n",
    "# you can modify the cur_state according to the guildence agent given, then run it again.\n",
    "hci.give_suggestion(cur_state)"
   ]
  },
  {
   "cell_type": "markdown",
   "metadata": {},
   "source": [
    "### Test HCI module (including basic actions for log and cobblestone)"
   ]
  },
  {
   "cell_type": "code",
   "execution_count": 5,
   "metadata": {},
   "outputs": [
    {
     "name": "stdout",
     "output_type": "stream",
     "text": [
      "{'inventory': {'cobblestone': 0,\n",
      "               'crafting_table': 0,\n",
      "               'dirt': 0,\n",
      "               'furnace': 0,\n",
      "               'iron_ingot': 0,\n",
      "               'iron_ore': 0,\n",
      "               'iron_pickaxe': 0,\n",
      "               'log': 0,\n",
      "               'planks': 0,\n",
      "               'stick': 0,\n",
      "               'stone_pickaxe': 0,\n",
      "               'wooden_pickaxe': 0}}\n"
     ]
    }
   ],
   "source": [
    "cur_state = {\n",
    "    \"inventory\":{\"log\": 0, \n",
    "                 \"planks\": 0,\n",
    "                 \"crafting_table\": 0,\n",
    "                 \"stick\": 0,\n",
    "                 \"wooden_pickaxe\": 0,\n",
    "                 \"dirt\": 0,\n",
    "                 \"cobblestone\": 0,\n",
    "                 \"stone_pickaxe\": 0,\n",
    "                 \"furnace\": 0,\n",
    "                 \"iron_ore\": 0,\n",
    "                 \"iron_ingot\": 0,\n",
    "                 \"iron_pickaxe\": 0,\n",
    "                }}\n",
    "\n",
    "pprint.pprint(cur_state)"
   ]
  },
  {
   "cell_type": "code",
   "execution_count": 6,
   "metadata": {},
   "outputs": [
    {
     "name": "stdout",
     "output_type": "stream",
     "text": [
      "Building model\n",
      "Building model\n",
      "Building model\n",
      "Building model\n",
      "Building model\n",
      "Building model\n",
      "Building model\n",
      "Building model\n"
     ]
    }
   ],
   "source": [
    "# create an subtask hci_controller first\n",
    "# you will only need to run this once at the beginning of the experiment\n",
    "# set basic_action_delay larger if you want to provide basic action not every time you call this function\n",
    "hci = HCI_controller(include_basic_actions = True,basic_action_delay=0)"
   ]
  },
  {
   "cell_type": "code",
   "execution_count": 7,
   "metadata": {},
   "outputs": [
    {
     "data": {
      "image/png": "[encoded data removed]",
      "text/plain": [
       "<Figure size 432x288 with 1 Axes>"
      ]
     },
     "metadata": {
      "needs_background": "light"
     },
     "output_type": "display_data"
    },
    {
     "name": "stdout",
     "output_type": "stream",
     "text": [
      "Building model\n"
     ]
    },
    {
     "data": {
      "text/plain": [
       "\"Welcome to the game! I'm your personal AI assistant, I will give you suggestions to help you play this wonderful game! Now try to collect 5 log. I recommend you to forward.\""
      ]
     },
     "execution_count": 7,
     "metadata": {},
     "output_type": "execute_result"
    }
   ],
   "source": [
    "# toy case\n",
    "#load an image to check \n",
    "with open('./HCI/test_obs.npy', 'rb') as f:\n",
    "    obs = np.load(f,allow_pickle=False)\n",
    "    \n",
    "import matplotlib.pyplot as plt\n",
    "plt.imshow(obs)\n",
    "plt.show()\n",
    "\n",
    "# simulate the experiment, in the real experiment, you will call this function every time when transfering data to the hci_controller\n",
    "# you can modify the cur_state according to the guildence agent given, then run it again.\n",
    "hci.give_suggestion(cur_state,obs=obs)"
   ]
  }
 ],
 "metadata": {
  "kernelspec": {
   "display_name": "Python 3",
   "language": "python",
   "name": "python3"
  },
  "language_info": {
   "codemirror_mode": {
    "name": "ipython",
    "version": 3
   },
   "file_extension": ".py",
   "mimetype": "text/x-python",
   "name": "python",
   "nbconvert_exporter": "python",
   "pygments_lexer": "ipython3",
   "version": "3.6.10"
  }
 },
 "nbformat": 4,
 "nbformat_minor": 4
}
