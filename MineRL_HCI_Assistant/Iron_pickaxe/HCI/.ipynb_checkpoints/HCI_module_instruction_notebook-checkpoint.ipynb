{
 "cells": [
  {
   "cell_type": "markdown",
   "metadata": {},
   "source": [
    "### HCI for MineRL Iron_pickaxe agent\n",
    "\n",
    "1. guidence recommendation\n",
    "  1. Subtask guidence\n",
    "      1. Assigning subtask for human-player.\n",
    "      2. Subtask could be the chain in HDQfD or Markov-controller or hand-crafted chain.\n",
    "      3. Potential research: Comparing Human-player performance between different provided chains.\n",
    "  2. speacial action guidence\n",
    "      1. Assigning special action(s) in the subtask for human-player.\n",
    "      2. special action contains:\n",
    "          1. Craft -- [Planke, stick, crafting_table, wooden_pickaxe, etc]: converting raw material\n",
    "          2. Place -- [item]: placing item(s)\n",
    "          3. NearbyCraft -- [item]: Craft item(s) when something nearby\n",
    "          4. Equip -- [item]\n",
    "          \n",
    "**Notes: For Iron_pickaxe, the program will only provide Subtask and speacial action guidence, no basic action guidence will be provided.**"
   ]
  },
  {
   "cell_type": "markdown",
   "metadata": {},
   "source": [
    "### import packages"
   ]
  },
  {
   "cell_type": "code",
   "execution_count": 1,
   "metadata": {},
   "outputs": [],
   "source": [
    "#HCI controller dependencies\n",
    "import os\n",
    "import numpy as np\n",
    "\n",
    "os.chdir(\"..\")\n",
    "from HCI.HCI_module import HCI_controller"
   ]
  },
  {
   "cell_type": "markdown",
   "metadata": {},
   "source": [
    "### create an instance of the HCI_controller class"
   ]
  },
  {
   "cell_type": "code",
   "execution_count": 2,
   "metadata": {},
   "outputs": [],
   "source": [
    "# create a hci_controller first\n",
    "# you will only need to run this once at the beginning of the experiment\n",
    "hci = HCI_controller()"
   ]
  },
  {
   "cell_type": "markdown",
   "metadata": {},
   "source": [
    "### create a dict to simulate the inventory dict in the real experiment"
   ]
  },
  {
   "cell_type": "code",
   "execution_count": 3,
   "metadata": {},
   "outputs": [],
   "source": [
    "# create a dict to simulate the inventory dict in the real experiment\n",
    "Inventory_data = { \"equipped_items.mainhand.type\": 'none',\n",
    "                       \"inventory\": \n",
    "                          { \"coal\": 0,\n",
    "                            \"cobblestone\": 0,\n",
    "                            \"crafting_table\": 0,\n",
    "                            \"dirt\": 0,\n",
    "                            \"furnace\": 0,\n",
    "                            \"iron_axe\": 0,\n",
    "                            \"iron_ingot\": 0,\n",
    "                            \"iron_ore\": 0,\n",
    "                            \"iron_pickaxe\": 0,\n",
    "                            \"log\": 0,\n",
    "                            \"planks\": 0,\n",
    "                            \"stick\": 0,\n",
    "                            \"stone\": 0,\n",
    "                            \"stone_axe\": 0,\n",
    "                            \"stone_pickaxe\": 0,\n",
    "                            \"torch\": 0,\n",
    "                            \"wooden_axe\": 0,\n",
    "                            \"wooden_pickaxe\": 0 }   \n",
    "                 }"
   ]
  },
  {
   "cell_type": "markdown",
   "metadata": {},
   "source": [
    "### simulate the experiment by calling give_suggestion function"
   ]
  },
  {
   "cell_type": "code",
   "execution_count": 4,
   "metadata": {},
   "outputs": [
    {
     "data": {
      "text/plain": [
       "\"Welcome to the game! I'm your personal AI assistant, I will give you suggestions to help you play this wonderful game! Now try to collect 5 log.\""
      ]
     },
     "execution_count": 4,
     "metadata": {},
     "output_type": "execute_result"
    }
   ],
   "source": [
    "# simulate the experiment, in the real experiment, you will call this function every time when transfering data to the hci_controller\n",
    "# you can modify the cur_state according to the guildence agent given, then run it again.\n",
    "hci.give_suggestion(Inventory_data)"
   ]
  },
  {
   "cell_type": "markdown",
   "metadata": {},
   "source": [
    "### Notes: \n",
    "If you want to modify the recommendation text template, please change the **generate_utterance** in **HCI_module.py** file."
   ]
  },
  {
   "cell_type": "markdown",
   "metadata": {},
   "source": [
    "### update the inventory dict to simulate the experiment"
   ]
  },
  {
   "cell_type": "code",
   "execution_count": 5,
   "metadata": {},
   "outputs": [],
   "source": [
    "# modify the inventory dict to simulate the experiment\n",
    "Inventory_data = { \"equipped_items.mainhand.type\": 'none',\n",
    "                       \"inventory\": \n",
    "                          { \"coal\": 0,\n",
    "                            \"cobblestone\": 0,\n",
    "                            \"crafting_table\": 0,\n",
    "                            \"dirt\": 0,\n",
    "                            \"furnace\": 0,\n",
    "                            \"iron_axe\": 0,\n",
    "                            \"iron_ingot\": 0,\n",
    "                            \"iron_ore\": 0,\n",
    "                            \"iron_pickaxe\": 0,\n",
    "                            \"log\": 5,\n",
    "                            \"planks\": 0,\n",
    "                            \"stick\": 0,\n",
    "                            \"stone\": 0,\n",
    "                            \"stone_axe\": 0,\n",
    "                            \"stone_pickaxe\": 0,\n",
    "                            \"torch\": 0,\n",
    "                            \"wooden_axe\": 0,\n",
    "                            \"wooden_pickaxe\": 0 }   \n",
    "                 }"
   ]
  },
  {
   "cell_type": "markdown",
   "metadata": {},
   "source": [
    "### re-run the give_suggestion function to simulate the experiment"
   ]
  },
  {
   "cell_type": "code",
   "execution_count": 6,
   "metadata": {},
   "outputs": [
    {
     "data": {
      "text/plain": [
       "'Now you can collect 20 planks, trust yourself! In order to do that, you have to do action \"craft planks\".'"
      ]
     },
     "execution_count": 6,
     "metadata": {},
     "output_type": "execute_result"
    }
   ],
   "source": [
    "# simulate the experiment, in the real experiment, you will call this function every time when transfering data to the hci_controller\n",
    "# you can modify the cur_state according to the guildence agent given, then run it again.\n",
    "hci.give_suggestion(Inventory_data)"
   ]
  },
  {
   "cell_type": "markdown",
   "metadata": {},
   "source": [
    "### Compute program run time"
   ]
  },
  {
   "cell_type": "code",
   "execution_count": 11,
   "metadata": {},
   "outputs": [
    {
     "name": "stdout",
     "output_type": "stream",
     "text": [
      "Time:  5.5100000004415506e-05\n"
     ]
    }
   ],
   "source": [
    "import timeit\n",
    "start = timeit.default_timer()\n",
    "hci.give_suggestion(Inventory_data)\n",
    "stop = timeit.default_timer()\n",
    "\n",
    "print('Time: ', stop - start)  "
   ]
  }
 ],
 "metadata": {
  "kernelspec": {
   "display_name": "Python 3",
   "language": "python",
   "name": "python3"
  },
  "language_info": {
   "codemirror_mode": {
    "name": "ipython",
    "version": 3
   },
   "file_extension": ".py",
   "mimetype": "text/x-python",
   "name": "python",
   "nbconvert_exporter": "python",
   "pygments_lexer": "ipython3",
   "version": "3.6.10"
  }
 },
 "nbformat": 4,
 "nbformat_minor": 4
}
